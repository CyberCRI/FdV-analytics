{
 "cells": [
  {
   "cell_type": "code",
   "execution_count": 11,
   "metadata": {
    "collapsed": true
   },
   "outputs": [],
   "source": [
    "import os\n",
    "import pandas as pd"
   ]
  },
  {
   "cell_type": "code",
   "execution_count": 16,
   "metadata": {
    "collapsed": true
   },
   "outputs": [],
   "source": [
    "test_files = [ \"../refs/ED 07-08/robert.tsv\", \"../refs/ED 09-10/coriat.tsv\" ]"
   ]
  },
  {
   "cell_type": "code",
   "execution_count": 41,
   "metadata": {
    "collapsed": false
   },
   "outputs": [
    {
     "name": "stdout",
     "output_type": "stream",
     "text": [
      "4\n",
      "13\n"
     ]
    }
   ],
   "source": [
    "def calculate_hindex(f):\n",
    "  hindex = 0\n",
    "  \n",
    "  if os.path.exists(f):\n",
    "    \n",
    "    try:\n",
    "      publications = pd.read_csv(f, sep=\"\\t\")\n",
    "\n",
    "      tc = publicatgions[\"NR\"].tolist()\n",
    "      #tc.sort(reverse=True)\n",
    "    \n",
    "      # print tc\n",
    "      hindex = max([ min(i+1, cited) for i, cited in enumerate(sorted(tc, reverse=True)) ])\n",
    "    except:\n",
    "      pass\n",
    "  \n",
    "  return hindex\n",
    "\n",
    "for f in test_files:\n",
    "  hindex = calculate_hindex(f)\n",
    "  \n",
    "  print hindex"
   ]
  },
  {
   "cell_type": "code",
   "execution_count": 39,
   "metadata": {
    "collapsed": false
   },
   "outputs": [
    {
     "data": {
      "text/html": [
       "<div style=\"max-height:1000px;max-width:1500px;overflow:auto;\">\n",
       "<table border=\"1\" class=\"dataframe\">\n",
       "  <thead>\n",
       "    <tr style=\"text-align: right;\">\n",
       "      <th></th>\n",
       "      <th>NOM</th>\n",
       "      <th>h-index</th>\n",
       "    </tr>\n",
       "  </thead>\n",
       "  <tbody>\n",
       "    <tr>\n",
       "      <th>0</th>\n",
       "      <td>      ROBERT</td>\n",
       "      <td>  4</td>\n",
       "    </tr>\n",
       "    <tr>\n",
       "      <th>1</th>\n",
       "      <td> PLATKIEWICZ</td>\n",
       "      <td>  3</td>\n",
       "    </tr>\n",
       "    <tr>\n",
       "      <th>2</th>\n",
       "      <td>      BIKARD</td>\n",
       "      <td> 13</td>\n",
       "    </tr>\n",
       "    <tr>\n",
       "      <th>3</th>\n",
       "      <td>      GUERIN</td>\n",
       "      <td>  4</td>\n",
       "    </tr>\n",
       "    <tr>\n",
       "      <th>4</th>\n",
       "      <td>     BASTIEN</td>\n",
       "      <td>  3</td>\n",
       "    </tr>\n",
       "  </tbody>\n",
       "</table>\n",
       "</div>"
      ],
      "text/plain": [
       "           NOM  h-index\n",
       "0       ROBERT        4\n",
       "1  PLATKIEWICZ        3\n",
       "2       BIKARD       13\n",
       "3       GUERIN        4\n",
       "4      BASTIEN        3"
      ]
     },
     "execution_count": 39,
     "metadata": {},
     "output_type": "execute_result"
    }
   ],
   "source": [
    "phd = pd.read_csv(\"../sources/phd.csv\")\n",
    "\n",
    "for idx, student in phd.iterrows():\n",
    "  bib_name = \"../refs/\"+str(student[2])+\"/\"+str(student[0]).lower()+\".tsv\"\n",
    "  \n",
    "  hindex = calculate_hindex(bib_name)\n",
    "  \n",
    "  phd.loc[idx, \"h-index\"] = hindex\n",
    "\n",
    "phd[[\"NOM\", \"h-index\"] ].head()"
   ]
  },
  {
   "cell_type": "code",
   "execution_count": 40,
   "metadata": {
    "collapsed": true
   },
   "outputs": [],
   "source": [
    "phd[[\"NOM\", \"h-index\"] ].to_csv(\"../outputs/hindex.csv\")"
   ]
  }
 ],
 "metadata": {
  "kernelspec": {
   "display_name": "Python 2",
   "language": "python",
   "name": "python2"
  },
  "language_info": {
   "codemirror_mode": {
    "name": "ipython",
    "version": 2
   },
   "file_extension": ".py",
   "mimetype": "text/x-python",
   "name": "python",
   "nbconvert_exporter": "python",
   "pygments_lexer": "ipython2",
   "version": "2.7.11"
  }
 },
 "nbformat": 4,
 "nbformat_minor": 0
}
