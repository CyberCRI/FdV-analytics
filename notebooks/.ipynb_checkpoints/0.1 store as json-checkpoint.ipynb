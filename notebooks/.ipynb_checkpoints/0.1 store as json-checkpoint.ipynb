{
 "cells": [
  {
   "cell_type": "code",
   "execution_count": 11,
   "metadata": {
    "collapsed": true
   },
   "outputs": [],
   "source": [
    "import json\n",
    "import csv\n",
    "import pandas as pd"
   ]
  },
  {
   "cell_type": "code",
   "execution_count": 13,
   "metadata": {
    "collapsed": false
   },
   "outputs": [],
   "source": [
    "phd = pd.read_csv(\"../sources/phd.csv\")\n",
    "\n",
    "for idx, student in phd.head().iterrows():\n",
    "  bib_name = \"../refs/\"+str(student[2])+\"/\"+str(student[0]).lower()+\".tsv\"\n",
    "  json_name = \"../refs/\"+str(student[2])+\"/\"+str(student[0]).lower()+\".json\"\n",
    "  \n",
    "  with open(bib_name) as csvfile:\n",
    "    data = [row for row in csv.DictReader(csvfile.read().splitlines(), delimiter=\"\\t\")]\n",
    "  \n",
    "  with open(json_name, \"w\") as jsonfile:\n",
    "    json.dump(data, jsonfile, sort_keys = True, indent = 4, ensure_ascii=False)"
   ]
  }
 ],
 "metadata": {
  "kernelspec": {
   "display_name": "Python 2",
   "language": "python",
   "name": "python2"
  },
  "language_info": {
   "codemirror_mode": {
    "name": "ipython",
    "version": 2
   },
   "file_extension": ".py",
   "mimetype": "text/x-python",
   "name": "python",
   "nbconvert_exporter": "python",
   "pygments_lexer": "ipython2",
   "version": "2.7.11"
  }
 },
 "nbformat": 4,
 "nbformat_minor": 0
}
