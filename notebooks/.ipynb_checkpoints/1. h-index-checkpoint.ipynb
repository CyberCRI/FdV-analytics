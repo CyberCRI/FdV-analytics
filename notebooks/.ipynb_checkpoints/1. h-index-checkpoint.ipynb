{
 "cells": [
  {
   "cell_type": "code",
   "execution_count": 11,
   "metadata": {
    "collapsed": true
   },
   "outputs": [],
   "source": [
    "import os\n",
    "import pandas as pd"
   ]
  },
  {
   "cell_type": "code",
   "execution_count": 16,
   "metadata": {
    "collapsed": true
   },
   "outputs": [],
   "source": [
    "test_files = [ \"../refs/ED 07-08/robert.tsv\", \"../refs/ED 09-10/coriat.tsv\" ]"
   ]
  },
  {
   "cell_type": "code",
   "execution_count": 35,
   "metadata": {
    "collapsed": false
   },
   "outputs": [
    {
     "name": "stdout",
     "output_type": "stream",
     "text": [
      "4\n",
      "13\n"
     ]
    }
   ],
   "source": [
    "def calculate_hindex(f):\n",
    "  hindex = 0\n",
    "  \n",
    "  if os.path.exists(f):\n",
    "    publications = pd.read_csv(f, sep=\"\\t\")\n",
    "  \n",
    "    tc = publications[\"NR\"].tolist()\n",
    "    tc.sort(reverse=True)\n",
    "    \n",
    "    # print tc\n",
    "    hindex = max([ min(i+1, cited) for i, cited in enumerate(tc) ])\n",
    "  \n",
    "  return hindex\n",
    "\n",
    "for f in test_files:\n",
    "  hindex = calculate_hindex(f)\n",
    "  \n",
    "  print hindex"
   ]
  },
  {
   "cell_type": "code",
   "execution_count": null,
   "metadata": {
    "collapsed": true
   },
   "outputs": [],
   "source": [
    "phd = pd.read_csv(\"../sources/phd.csv\")\n",
    "\n",
    "for idx, student in phd.iterrows():\n",
    "  bib_name = \"../refs/\"+str(student[2])+\"/\"+str(student[0]).lower()+\".tsv\"\n",
    "  \n",
    "  hindex = calculate_hindex(bib_name)"
   ]
  }
 ],
 "metadata": {
  "kernelspec": {
   "display_name": "Python 2",
   "language": "python",
   "name": "python2"
  },
  "language_info": {
   "codemirror_mode": {
    "name": "ipython",
    "version": 2
   },
   "file_extension": ".py",
   "mimetype": "text/x-python",
   "name": "python",
   "nbconvert_exporter": "python",
   "pygments_lexer": "ipython2",
   "version": "2.7.11"
  }
 },
 "nbformat": 4,
 "nbformat_minor": 0
}
